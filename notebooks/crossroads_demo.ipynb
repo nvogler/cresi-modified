{
 "cells": [
  {
   "cell_type": "code",
   "execution_count": 1,
   "metadata": {},
   "outputs": [
    {
     "name": "stdout",
     "output_type": "stream",
     "text": [
      "/opt/cresi\n"
     ]
    }
   ],
   "source": [
    "import os\n",
    "import json\n",
    "import skimage\n",
    "import shutil\n",
    "import osmnx as ox\n",
    "import numpy as np\n",
    "import pandas as pd\n",
    "import scipy.spatial\n",
    "import networkx as nx\n",
    "import matplotlib.pyplot as plt\n",
    "\n",
    "%cd /opt/cresi\n",
    "from cresi import create_8bit_images, config as config_mdl"
   ]
  },
  {
   "cell_type": "markdown",
   "metadata": {},
   "source": [
    "### Set config path"
   ]
  },
  {
   "cell_type": "code",
   "execution_count": 2,
   "metadata": {},
   "outputs": [],
   "source": [
    "\n",
    "cresi_dir = '/opt/cresi'\n",
    "\n",
    "config_dir = os.path.join(cresi_dir, 'cresi', 'configs')\n",
    "config_filename = 'demo_config.json'\n",
    "\n",
    "config_path = os.path.join(config_dir, config_filename)"
   ]
  },
  {
   "cell_type": "code",
   "execution_count": 3,
   "metadata": {},
   "outputs": [],
   "source": [
    "with open(config_path, \"r\") as f:\n",
    "    cfg = json.load(f)\n",
    "    config = config_mdl.Config(**cfg)"
   ]
  },
  {
   "cell_type": "code",
   "execution_count": 4,
   "metadata": {},
   "outputs": [],
   "source": [
    "raw_data_dir = os.path.join(config.path_data_root, config.raw_data_dir)\n",
    "eight_bit_dir = os.path.join(config.path_data_root, config.eight_bit_dir)\n",
    "sliced_dir = os.path.join(config.path_data_root, config.sliced_dir)\n",
    "folds_save_dir = os.path.join(config.path_results_root, config.folds_save_dir)\n",
    "stitched_dir_norm = os.path.join(config.path_results_root, config.stitched_dir_norm)\n",
    "\n",
    "results_dir = config.path_results_root"
   ]
  },
  {
   "cell_type": "markdown",
   "metadata": {},
   "source": [
    "### Clear previous results"
   ]
  },
  {
   "cell_type": "code",
   "execution_count": null,
   "metadata": {},
   "outputs": [],
   "source": [
    "for f in os.listdir(eight_bit_dir):\n",
    "    os.remove(os.path.join(eight_bit_dir, f))\n",
    "    \n",
    "for f in os.listdir(sliced_dir):\n",
    "    os.remove(os.path.join(sliced_dir, f))\n",
    "    \n",
    "for f in os.listdir(results_dir):\n",
    "    try:\n",
    "        os.remove(os.path.join(results_dir, f))\n",
    "    except:\n",
    "        shutil.rmtree(os.path.join(results_dir, f))"
   ]
  },
  {
   "cell_type": "markdown",
   "metadata": {},
   "source": [
    "### Convert 16bit MS to 8bit, 3 band"
   ]
  },
  {
   "cell_type": "code",
   "execution_count": null,
   "metadata": {},
   "outputs": [],
   "source": [
    "#import rasterio \n",
    "\"\"\"\n",
    "for im_name in os.listdir(test_im_clip_dir):\n",
    "    break\n",
    "    ds = rasterio.open(os.path.join(test_im_clip_dir, im_name))\n",
    "\n",
    "    n_ds = rasterio.open(\n",
    "        os.path.join(test_final_dir, im_name),\n",
    "        'w',\n",
    "        driver='GTiff',\n",
    "        height=ds.shape[0],\n",
    "        width=ds.shape[1],\n",
    "        count=3, # 3 bands\n",
    "        dtype='uint8', # 8 bit\n",
    "        crs=ds.crs, # copy from orig\n",
    "        transform=ds.transform # lonlat bounds, copy from orig\n",
    "    )\n",
    "    \n",
    "    # 3 band orig\n",
    "    if len(ds.dtypes) == 3:\n",
    "        n_ds.write_band(1, ds.read(1).astype('uint8'))\n",
    "        n_ds.write_band(2, ds.read(2).astype('uint8'))\n",
    "        n_ds.write_band(3, ds.read(3).astype('uint8'))\n",
    "    elif len(ds.dtypes) == 8:\n",
    "        n_ds.write_band(1, ds.read(5).astype('uint8'))\n",
    "        n_ds.write_band(2, ds.read(3).astype('uint8'))\n",
    "        n_ds.write_band(3, ds.read(2).astype('uint8'))\n",
    "    else:\n",
    "        print ('Unknown source type.')\n",
    "    \n",
    "    n_ds.close()\n",
    "\"\"\"\n",
    " "
   ]
  },
  {
   "cell_type": "code",
   "execution_count": null,
   "metadata": {
    "scrolled": true
   },
   "outputs": [],
   "source": [
    "# this works much better, but we can't use gdal \n",
    "from cresi import create_8bit_images\n",
    "\n",
    "# Convert 16-bit multispectral test data to 8-bit RGB\n",
    "create_8bit_images.dir_to_8bit(raw_data_dir, eight_bit_dir,\n",
    "                              command_file_loc='',\n",
    "                              rescale_type=\"perc\",\n",
    "                              percentiles=[2,98],\n",
    "                              band_order=[]) # specify [5,3,2] if MS channels. Here we are using RGB itself"
   ]
  },
  {
   "cell_type": "code",
   "execution_count": null,
   "metadata": {},
   "outputs": [],
   "source": [
    "# display our image\n",
    "im_name = [z for z in os.listdir(eight_bit_dir) if z.endswith('.tif')][0]\n",
    "im_path = os.path.join(eight_bit_dir, im_name)\n",
    "im = skimage.io.imread(im_path)\n",
    "\n",
    "skimage.io.imshow(im) \n",
    "skimage.io.show()"
   ]
  },
  {
   "cell_type": "markdown",
   "metadata": {},
   "source": [
    "### Slice image into processable chunks\n",
    "slice_x, slice_y defined in config"
   ]
  },
  {
   "cell_type": "code",
   "execution_count": null,
   "metadata": {},
   "outputs": [],
   "source": [
    "%run -i cresi/01_slice.py { config_path }"
   ]
  },
  {
   "cell_type": "markdown",
   "metadata": {},
   "source": [
    "### Run Inference"
   ]
  },
  {
   "cell_type": "code",
   "execution_count": null,
   "metadata": {
    "scrolled": false
   },
   "outputs": [],
   "source": [
    "%run -i cresi/02_eval.py { config_path }"
   ]
  },
  {
   "cell_type": "markdown",
   "metadata": {},
   "source": [
    "### Evaluate results\n",
    "\n",
    "The 02_eval.py script produce a multi-channel road masks for each image tile.  Each channel of this mask corresponds to a unique speed range.  For each of the testing tiles, the predicted mask will look something like the plot below."
   ]
  },
  {
   "cell_type": "code",
   "execution_count": null,
   "metadata": {},
   "outputs": [],
   "source": [
    "mask_pred_file = [z for z in os.listdir(folds_save_dir) if z.endswith('.tif')][0]\n",
    "mask_pred_path = os.path.join(folds_save_dir, mask_pred_file)\n",
    "mask_pred = skimage.io.imread(mask_pred_path)\n",
    "print(\"mask_pred.shape:\", mask_pred.shape)\n",
    "\n",
    "# plot all layers\n",
    "fig, axes = plt.subplots(2, 4, figsize=(16, 9))\n",
    "for i, ax in enumerate(axes.flatten()):\n",
    "    if i < (len(axes.flatten()) - 1):\n",
    "        title = 'Mask Channel {}'.format(str(i))\n",
    "    else:\n",
    "        title = 'Aggregate' \n",
    "    ax.imshow(mask_pred[i,:,:])\n",
    "    ax.set_title(title)"
   ]
  },
  {
   "cell_type": "markdown",
   "metadata": {},
   "source": [
    "### Stitch slices back together"
   ]
  },
  {
   "cell_type": "code",
   "execution_count": null,
   "metadata": {
    "scrolled": true
   },
   "outputs": [],
   "source": [
    "%run -i cresi/03_stitch.py { config_path }"
   ]
  },
  {
   "cell_type": "code",
   "execution_count": null,
   "metadata": {},
   "outputs": [],
   "source": [
    "# Inspect the output\n",
    "mask_pred_file = [z for z in os.listdir(stitched_dir_norm) if z.endswith('.tif')][0]\n",
    "mask_pred_path = os.path.join(stitched_dir_norm, mask_pred_file)\n",
    "mask_pred = skimage.io.imread(mask_pred_path)\n",
    "print(\"mask_pred.shape:\", mask_pred.shape)\n",
    "\n",
    "# plot final layer\n",
    "fig_width, fig_height = 12, 12\n",
    "fig, ax = plt.subplots(figsize=(fig_width, fig_height))\n",
    "_ = ax.imshow(mask_pred[-1,:,:])\n",
    "_ = ax.set_title('Aggregate - ' + mask_pred_file)"
   ]
  },
  {
   "cell_type": "code",
   "execution_count": null,
   "metadata": {
    "scrolled": true
   },
   "outputs": [],
   "source": [
    "%run -i cresi/04_skeletonize.py { config_path }"
   ]
  },
  {
   "cell_type": "code",
   "execution_count": 19,
   "metadata": {
    "scrolled": false
   },
   "outputs": [
    {
     "name": "stdout",
     "output_type": "stream",
     "text": [
      "image_ids: ['000-001-RGB']\n",
      "len image_ids: 1\n",
      "000-001-RGB\n",
      "im_file: /opt/cresi/data/raw_data/000-001-RGB.tif\n",
      "Computing geo coords for nodes (12 threads)...\n",
      "Updating data properties\n",
      "params_tmp ('tmp', 2997.0, 6.0, '/opt/cresi/data/raw_data/000-001-RGB.tif')\n",
      "tmp_dict: {'tmp': (23.930517461012105, 49.823720907985916)}\n",
      "Computing geo coords for edges (12 threads)...\n",
      "Updating edge data properties\n"
     ]
    },
    {
     "name": "stderr",
     "output_type": "stream",
     "text": [
      "/opt/conda/lib/python3.8/site-packages/pandas/core/dtypes/cast.py:122: ShapelyDeprecationWarning: The array interface is deprecated and will no longer work in Shapely 2.0. Convert the '.coords' to a numpy array instead.\n",
      "  arr = construct_1d_object_array_from_listlike(values)\n"
     ]
    },
    {
     "name": "stdout",
     "output_type": "stream",
     "text": [
      "0 10003 10048\n",
      "0 10003 10048\n",
      "0 10003 10048\n",
      "0 10003 10048\n"
     ]
    },
    {
     "name": "stderr",
     "output_type": "stream",
     "text": [
      "/opt/conda/lib/python3.8/site-packages/osmnx/io.py:108: UserWarning: Column names longer than 10 characters will be truncated when saved to ESRI Shapefile.\n",
      "  gdf_nodes.to_file(filepath_nodes, driver=\"ESRI Shapefile\", index=True, encoding=encoding)\n",
      "/opt/conda/lib/python3.8/site-packages/osmnx/io.py:109: UserWarning: Column names longer than 10 characters will be truncated when saved to ESRI Shapefile.\n",
      "  gdf_edges.to_file(filepath_edges, driver=\"ESRI Shapefile\", index=True, encoding=encoding)\n"
     ]
    },
    {
     "name": "stdout",
     "output_type": "stream",
     "text": [
      "Time to run wkt_to_G.py: 3.049278974533081 seconds\n"
     ]
    }
   ],
   "source": [
    "%run -i cresi/05_wkt_to_G.py { config_path }"
   ]
  },
  {
   "cell_type": "code",
   "execution_count": 20,
   "metadata": {
    "scrolled": false
   },
   "outputs": [
    {
     "data": {
      "image/png": "[encoded data removed]",
      "text/plain": [
       "<Figure size 864x864 with 1 Axes>"
      ]
     },
     "metadata": {},
     "output_type": "display_data"
    }
   ],
   "source": [
    "# inspect the output\n",
    "gpickle_file = [z for z in os.listdir(os.path.join(results_dir, 'graphs')) if z.endswith('.gpickle')][0]\n",
    "gpickle_path = os.path.join(results_dir, 'graphs', gpickle_file)\n",
    "G0 = nx.read_gpickle(gpickle_path)\n",
    "_, _ = ox.plot_graph(G0, figsize=(12,12))"
   ]
  },
  {
   "cell_type": "code",
   "execution_count": null,
   "metadata": {},
   "outputs": [],
   "source": []
  },
  {
   "cell_type": "code",
   "execution_count": null,
   "metadata": {},
   "outputs": [],
   "source": []
  }
 ],
 "metadata": {
  "kernelspec": {
   "display_name": "Python 3 (ipykernel)",
   "language": "python",
   "name": "python3"
  },
  "language_info": {
   "codemirror_mode": {
    "name": "ipython",
    "version": 3
   },
   "file_extension": ".py",
   "mimetype": "text/x-python",
   "name": "python",
   "nbconvert_exporter": "python",
   "pygments_lexer": "ipython3",
   "version": "3.8.13"
  }
 },
 "nbformat": 4,
 "nbformat_minor": 4
}
